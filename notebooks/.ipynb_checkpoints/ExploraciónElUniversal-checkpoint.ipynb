{
 "cells": [
  {
   "cell_type": "code",
   "execution_count": null,
   "metadata": {
    "collapsed": true
   },
   "outputs": [],
   "source": [
    "import requests\n",
    "from bs4 import BeautifulSoup\n",
    "import dryscrape\n",
    "from time import sleep"
   ]
  },
  {
   "cell_type": "code",
   "execution_count": 421,
   "metadata": {
    "collapsed": false,
    "scrolled": true
   },
   "outputs": [],
   "source": [
    "newspaper = {}\n",
    "newspaper[\"searchUrl\"] = \"http://activo.eluniversal.com.mx/historico/search/index.php\"\n",
    "newspaper[\"searchParamType\"] = \"params\"\n",
    "newspaper[\"searchParam\"] = \"q\"\n",
    "newspaper[\"paginationFirstParam\"] = \"False\"\n",
    "newspaper[\"paginationStrategy\"] = \"GET\"\n",
    "newspaper[\"paginationParams\"] = {\n",
    "    \"startingPoint\":{\"name\":\"start\",\"totalLocationName\":\"span#ContadorBusqueda\", \"totalLocationType\":\"HTML\", \"totalLocationOps\":\"locationText.split(' ')[0].replace('[','')\", \"sumFactor\" :20 }, \n",
    "    \"pageNumber\":{\"name\":\"page\", \"totalLocationName\":\"div.HojaBusqueda\", \"totalLocationType\":\"HTML\", \"totalLocationOps\":\"locationText.split(')')[0].split(\" \")[-1]\", \"sumFactor\": 1 }\n",
    "    }\n",
    "newspaper[\"visitType\"] = \"pureRequest\"\n",
    "newspaper[\"searchLinksBody\"] = \"div#IzqDisplayColumn\"\n",
    "newspaper[\"article\"] = {\"locationBody\":\"div.field-type-text-with-summary\", \"locationTitle\":\"div.pane-node-title\", \"locationTags\":\"div.field-name-field-tags\"}"
   ]
  },
  {
   "cell_type": "code",
   "execution_count": 422,
   "metadata": {
    "collapsed": true
   },
   "outputs": [],
   "source": [
    "searchData = {}\n",
    "searchData[\"query\"] = \"Dragon Ball\""
   ]
  },
  {
   "cell_type": "code",
   "execution_count": 24,
   "metadata": {
    "collapsed": true
   },
   "outputs": [],
   "source": [
    "def buildBaseUrl(newspaper, searchData):\n",
    "    if newspaper[\"searchParamType\"] ==\"endpoint\":\n",
    "        url = newspaper[\"searchUrl\"] + searchData[\"query\"]\n",
    "    else:\n",
    "        #Case if searchParamType == get param\n",
    "        url = newspaper[\"searchUrl\"] +\"?\" + newspaper[\"searchParam\"] + \"=\" + searchData[\"query\"] \n",
    "    return url"
   ]
  },
  {
   "cell_type": "code",
   "execution_count": 412,
   "metadata": {
    "collapsed": false
   },
   "outputs": [],
   "source": [
    "def buildPagination(newspaper, baseUrl, iterationParametersValues, iterationParameter):\n",
    "    if newspaper[\"paginationStrategy\"] == \"GET\":\n",
    "        url, headers, formData = GETPagination(newspaper, baseUrl, iterationParametersValues, iterationParameter)\n",
    "        print(\"Getting: \"+ url)\n",
    "        content = visitPage(url,newspaper) #TODO(ricalanis). Include headers and form data.\n",
    "    #else newspaper[\"paginationStrategy\"] == \"POST/headers\"\n",
    "    return content"
   ]
  },
  {
   "cell_type": "code",
   "execution_count": 395,
   "metadata": {
    "collapsed": true
   },
   "outputs": [],
   "source": [
    "def GETPagination(newspaper, baseUrl, iterationParametersValues, iterationParameter):\n",
    "    url = baseUrl\n",
    "    firstParam = bool(newspaper[\"paginationFirstParam\"])\n",
    "    for numParam, param in enumerate(newspaper[\"paginationParams\"]):\n",
    "        if numParam == 0:\n",
    "            if firstParam == \"True\":\n",
    "                url = url + \"?\"\n",
    "            else:\n",
    "                url = url + \"&\"\n",
    "        else:\n",
    "            url = url + \"&\"\n",
    "        url = url + newspaper[\"paginationParams\"][param][\"name\"]  + \"=\" + str(iterationParametersValues[param])\n",
    "    return url, [], []"
   ]
  },
  {
   "cell_type": "code",
   "execution_count": 407,
   "metadata": {
    "collapsed": false
   },
   "outputs": [],
   "source": [
    "def searchPages(newspaper,searchData):\n",
    "    searchPage = buildBaseUrl(newspaper,searchData)\n",
    "    content = visitPage(searchPage, newspaper)\n",
    "    maxValuesParams = extractMaxParamValue(content, newspaper)\n",
    "    stories = []\n",
    "    iterationMax, iterationParametersValues, iterationParameter = getIterationProcess(maxValuesParams, newspaper)\n",
    "    while iterationParametersValues[iterationParameter] <= maxValuesParams[iterationParameter]:\n",
    "        print(str(iterationParametersValues[iterationParameter]) + \"/\" + str(iterationMax))\n",
    "        content =buildPagination(newspaper, searchPage, iterationParametersValues, iterationParameter)\n",
    "        stories = stories + extractPageStories(content, newspaper, searchData)\n",
    "        iterationParametersValues = incrementIterationParameters(iterationParametersValues, newspaper)\n",
    "        sleep(0.5)\n",
    "        print(\"Current story size:\" + str(len(stories)))\n",
    "    return stories"
   ]
  },
  {
   "cell_type": "code",
   "execution_count": 385,
   "metadata": {
    "collapsed": true
   },
   "outputs": [],
   "source": [
    "def incrementIterationParameters(iterationParametersValues, newspaper):\n",
    "    for key in iterationParametersValues:\n",
    "        print(newspaper[\"paginationParams\"][key][\"sumFactor\"])\n",
    "        iterationParametersValues[key] = iterationParametersValues[key] + newspaper[\"paginationParams\"][key][\"sumFactor\"]\n",
    "    return iterationParametersValues"
   ]
  },
  {
   "cell_type": "code",
   "execution_count": 363,
   "metadata": {
    "collapsed": true
   },
   "outputs": [],
   "source": [
    "def getIterationProcess(maxValuesParams, newspaper):\n",
    "    iterationMax = 2\n",
    "    sumFactor = 1\n",
    "    if \"pageNumber\" in maxValuesParams:\n",
    "        #TODO(ricalanis): Abstract this.\n",
    "        iterationMax = maxValuesParams[\"pageNumber\"]\n",
    "        iterationParameter = \"pageNumber\"\n",
    "    else:\n",
    "        if \"startingPoint\" in maxValuesParams:\n",
    "            iterationMax = maxValuesParams[\"startingPoint\"]\n",
    "            iterationParameter = \"startingPoint\"\n",
    "    iterationParametersValues = {}\n",
    "    for key in maxValuesParams:\n",
    "        iterationParametersValues[key] = 1\n",
    "    return iterationMax, iterationParametersValues, iterationParameter"
   ]
  },
  {
   "cell_type": "code",
   "execution_count": 418,
   "metadata": {
    "collapsed": true
   },
   "outputs": [],
   "source": [
    "#non iterative version:\n",
    "def searchPage(newspaper,searchData):\n",
    "    searchPage = buildBaseUrl(newspaper,searchData)\n",
    "    content = visitPage(searchPage, newspaper)\n",
    "    maxValuesParams = extractMaxParamValue(content, newspaper)\n",
    "    currentPosition = 1\n",
    "    stories = []\n",
    "    stories = stories + extractPageStories(content, newspaper, searchData)\n",
    "    return stories"
   ]
  },
  {
   "cell_type": "code",
   "execution_count": 292,
   "metadata": {
    "collapsed": false
   },
   "outputs": [],
   "source": [
    "def visitPage(page,newspaper):\n",
    "    if newspaper[\"visitType\"] == \"pureRequest\":\n",
    "        content = requests.get(page).content\n",
    "    elif newspaper[\"visitType\"] == \"JavascriptEnabled\":\n",
    "        if not sess: \n",
    "            sess = dryscrape.Session(base_url = newspaper[\"searchUrl\"])\n",
    "        content = sess.visit(\"/\"+page).body\n",
    "    content = BeautifulSoup(content)\n",
    "    return content\n",
    "        "
   ]
  },
  {
   "cell_type": "code",
   "execution_count": 266,
   "metadata": {
    "collapsed": false
   },
   "outputs": [],
   "source": [
    "def extractMaxParamValue(content,newspaper):\n",
    "    totalParamValues = {}\n",
    "    for param in newspaper[\"paginationParams\"]:\n",
    "        locationText = textExtract(content, newspaper[\"paginationParams\"][param][\"totalLocationName\"])\n",
    "        value = int(eval(newspaper[\"paginationParams\"][param][\"totalLocationOps\"].replace(\"locationText\",'\"\"\"'+locationText+'\"\"\"')))\n",
    "        totalParamValues[param] = value\n",
    "    return totalParamValues\n",
    "        "
   ]
  },
  {
   "cell_type": "code",
   "execution_count": 63,
   "metadata": {
    "collapsed": true
   },
   "outputs": [],
   "source": [
    "def domTranslate(expression):\n",
    "    if \"#\" in expression:\n",
    "        tag, tag_id = expression.split(\"#\")\n",
    "        return tag, \"id\", tag_id\n",
    "    elif \".\" in expression:\n",
    "        tag, tag_class = expression.split(\".\")\n",
    "        return tag, \"class\", tag_class\n",
    "    else:\n",
    "        raise \"No Id or Class symbol found\"\n",
    "    return None"
   ]
  },
  {
   "cell_type": "code",
   "execution_count": 195,
   "metadata": {
    "collapsed": true
   },
   "outputs": [],
   "source": [
    "def linkAppend(content, newspaper):\n",
    "    tag, tagType, tagName = domTranslate(newspaper[\"searchLinksBody\"])\n",
    "    return list(set([link[\"href\"] for link in content.find(tag,{tagType:tagName}).findAll(\"a\")]))"
   ]
  },
  {
   "cell_type": "code",
   "execution_count": 240,
   "metadata": {
    "collapsed": true
   },
   "outputs": [],
   "source": [
    "def textExtract(content, domObject):\n",
    "    tag, tagType, tagValue = domTranslate(domObject)\n",
    "    try:\n",
    "        content.find(tag, {tagType:tagValue})\n",
    "        locationText = content.find(tag, {tagType:tagValue}).text\n",
    "    except: \n",
    "        locationText = \"N/A\"\n",
    "    return locationText"
   ]
  },
  {
   "cell_type": "code",
   "execution_count": 245,
   "metadata": {
    "collapsed": true
   },
   "outputs": [],
   "source": [
    "def extractPageStories(content, newspaper,searchData):\n",
    "    stories = []\n",
    "    links = linkExtractor(content, newspaper)\n",
    "    for link in links:\n",
    "        story = {}\n",
    "        content = visitPage(link,newspaper)\n",
    "        story[\"link\"] = link\n",
    "        story[\"query\"] = searchData[\"query\"]\n",
    "        for articleSection in newspaper[\"article\"]:\n",
    "            domSection = newspaper[\"article\"][articleSection]\n",
    "            story[articleSection] = textExtract(content, domSection)\n",
    "        stories.append(story)\n",
    "    return stories\n",
    "        "
   ]
  },
  {
   "cell_type": "code",
   "execution_count": null,
   "metadata": {
    "collapsed": true
   },
   "outputs": [],
   "source": [
    "searchPages(newspaper, searchData)"
   ]
  }
 ],
 "metadata": {
  "kernelspec": {
   "display_name": "Python 3",
   "language": "python",
   "name": "python3"
  },
  "language_info": {
   "codemirror_mode": {
    "name": "ipython",
    "version": 3
   },
   "file_extension": ".py",
   "mimetype": "text/x-python",
   "name": "python",
   "nbconvert_exporter": "python",
   "pygments_lexer": "ipython3",
   "version": "3.4.1"
  }
 },
 "nbformat": 4,
 "nbformat_minor": 0
}
