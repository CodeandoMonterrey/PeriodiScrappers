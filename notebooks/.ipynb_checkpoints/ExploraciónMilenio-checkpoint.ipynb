{
 "cells": [
  {
   "cell_type": "code",
   "execution_count": 1,
   "metadata": {
    "collapsed": true
   },
   "outputs": [],
   "source": [
    "import requests\n",
    "from bs4 import BeautifulSoup\n",
    "import dryscrape\n",
    "from time import sleep"
   ]
  },
  {
   "cell_type": "code",
   "execution_count": 2,
   "metadata": {
    "collapsed": false,
    "scrolled": true
   },
   "outputs": [],
   "source": [
    "newspaper = {}\n",
    "newspaper[\"searchUrl\"] = \"http://www.milenio.com/buscador/\"\n",
    "newspaper[\"searchParamType\"] = \"params\"\n",
    "newspaper[\"searchParam\"] = \"text\"\n",
    "newspaper[\"paginationFirstParam\"] = \"True\"\n",
    "newspaper[\"paginationStrategy\"] = \"Refresh\"\n",
    "newspaper[\"paginationParams\"] = {\n",
    "    \"refreshButton\": {'linkLocation':'a#busqueda-vermas', \"limit\":\"remove\"}\n",
    "    }\n",
    "newspaper[\"visitType\"] = \"JavascriptEnabled\"\n",
    "newspaper[\"searchLinksBody\"] = \"div.results\"\n",
    "newspaper[\"article\"] = {\"locationBody\":\"div.mce-body\", \"locationTitle\":\"h1.pg-bkn-headline\"}"
   ]
  },
  {
   "cell_type": "code",
   "execution_count": 3,
   "metadata": {
    "collapsed": true
   },
   "outputs": [],
   "source": [
    "searchData = {}\n",
    "searchData[\"query\"] = \"Dragon Ball\""
   ]
  },
  {
   "cell_type": "code",
   "execution_count": 4,
   "metadata": {
    "collapsed": true
   },
   "outputs": [],
   "source": [
    "def buildBaseUrl(newspaper, searchData):\n",
    "    if newspaper[\"searchParamType\"] ==\"endpoint\":\n",
    "        url = newspaper[\"searchUrl\"] + searchData[\"query\"]\n",
    "    else:\n",
    "        #Case if searchParamType == get param\n",
    "        url = newspaper[\"searchUrl\"] +\"?\" + newspaper[\"searchParam\"] + \"=\" + searchData[\"query\"] \n",
    "    return url"
   ]
  },
  {
   "cell_type": "code",
   "execution_count": 5,
   "metadata": {
    "collapsed": false
   },
   "outputs": [],
   "source": [
    "def buildPagination(newspaper, baseUrl, iterationParametersValues, iterationParameter):\n",
    "    if newspaper[\"paginationStrategy\"] == \"GET\":\n",
    "        url, headers, formData = GETPagination(newspaper, baseUrl, iterationParametersValues, iterationParameter)\n",
    "        print(\"Getting: \"+ url)\n",
    "        content = visitPage(url,newspaper) #TODO(ricalanis). Include headers and form data.\n",
    "    return content"
   ]
  },
  {
   "cell_type": "code",
   "execution_count": 6,
   "metadata": {
    "collapsed": true
   },
   "outputs": [],
   "source": [
    "def GETPagination(newspaper, baseUrl, iterationParametersValues, iterationParameter):\n",
    "    url = baseUrl\n",
    "    firstParam = bool(newspaper[\"paginationFirstParam\"])\n",
    "    for numParam, param in enumerate(newspaper[\"paginationParams\"]):\n",
    "        if numParam == 0:\n",
    "            if firstParam == \"True\":\n",
    "                url = url + \"?\"\n",
    "            else:\n",
    "                url = url + \"&\"\n",
    "        else:\n",
    "            url = url + \"&\"\n",
    "        url = url + newspaper[\"paginationParams\"][param][\"name\"]  + \"=\" + str(iterationParametersValues[param])\n",
    "    return url, [], []"
   ]
  },
  {
   "cell_type": "code",
   "execution_count": 33,
   "metadata": {
    "collapsed": true
   },
   "outputs": [],
   "source": [
    "def searchPageRefresh(newspaper,searchData):\n",
    "    searchPage = buildBaseUrl(newspaper,searchData)\n",
    "    sess = dryscrape.Session(searchPage)\n",
    "    print(\"Setting up Virtual Explorer\")\n",
    "    content = maxOutPage(searchPage, newspaper)\n",
    "    stories = extractPageStories(content, newspaper, searchData)\n",
    "    len(stories)\n",
    "    return stories"
   ]
  },
  {
   "cell_type": "code",
   "execution_count": 42,
   "metadata": {
    "collapsed": false
   },
   "outputs": [
    {
     "name": "stdout",
     "output_type": "stream",
     "text": [
      "Setting up Virtual Explorer\n",
      "\n"
     ]
    },
    {
     "ename": "AttributeError",
     "evalue": "'NoneType' object has no attribute 'findAll'",
     "output_type": "error",
     "traceback": [
      "\u001b[0;31m---------------------------------------------------------------------------\u001b[0m",
      "\u001b[0;31mAttributeError\u001b[0m                            Traceback (most recent call last)",
      "\u001b[0;32m<ipython-input-42-36ad66a5e20d>\u001b[0m in \u001b[0;36m<module>\u001b[0;34m()\u001b[0m\n\u001b[0;32m----> 1\u001b[0;31m \u001b[0msearchPageRefresh\u001b[0m\u001b[0;34m(\u001b[0m\u001b[0mnewspaper\u001b[0m\u001b[0;34m,\u001b[0m\u001b[0msearchData\u001b[0m\u001b[0;34m)\u001b[0m\u001b[0;34m\u001b[0m\u001b[0m\n\u001b[0m",
      "\u001b[0;32m<ipython-input-33-b50022a8bc1c>\u001b[0m in \u001b[0;36msearchPageRefresh\u001b[0;34m(newspaper, searchData)\u001b[0m\n\u001b[1;32m      4\u001b[0m     \u001b[0mprint\u001b[0m\u001b[0;34m(\u001b[0m\u001b[0;34m\"Setting up Virtual Explorer\"\u001b[0m\u001b[0;34m)\u001b[0m\u001b[0;34m\u001b[0m\u001b[0m\n\u001b[1;32m      5\u001b[0m     \u001b[0mcontent\u001b[0m \u001b[0;34m=\u001b[0m \u001b[0mmaxOutPage\u001b[0m\u001b[0;34m(\u001b[0m\u001b[0msearchPage\u001b[0m\u001b[0;34m,\u001b[0m \u001b[0mnewspaper\u001b[0m\u001b[0;34m)\u001b[0m\u001b[0;34m\u001b[0m\u001b[0m\n\u001b[0;32m----> 6\u001b[0;31m     \u001b[0mstories\u001b[0m \u001b[0;34m=\u001b[0m \u001b[0mextractPageStories\u001b[0m\u001b[0;34m(\u001b[0m\u001b[0mcontent\u001b[0m\u001b[0;34m,\u001b[0m \u001b[0mnewspaper\u001b[0m\u001b[0;34m,\u001b[0m \u001b[0msearchData\u001b[0m\u001b[0;34m)\u001b[0m\u001b[0;34m\u001b[0m\u001b[0m\n\u001b[0m\u001b[1;32m      7\u001b[0m     \u001b[0mlen\u001b[0m\u001b[0;34m(\u001b[0m\u001b[0mstories\u001b[0m\u001b[0;34m)\u001b[0m\u001b[0;34m\u001b[0m\u001b[0m\n\u001b[1;32m      8\u001b[0m     \u001b[0;32mreturn\u001b[0m \u001b[0mstories\u001b[0m\u001b[0;34m\u001b[0m\u001b[0m\n",
      "\u001b[0;32m<ipython-input-37-acac9c1266b7>\u001b[0m in \u001b[0;36mextractPageStories\u001b[0;34m(content, newspaper, searchData)\u001b[0m\n\u001b[1;32m      1\u001b[0m \u001b[0;32mdef\u001b[0m \u001b[0mextractPageStories\u001b[0m\u001b[0;34m(\u001b[0m\u001b[0mcontent\u001b[0m\u001b[0;34m,\u001b[0m \u001b[0mnewspaper\u001b[0m\u001b[0;34m,\u001b[0m\u001b[0msearchData\u001b[0m\u001b[0;34m)\u001b[0m\u001b[0;34m:\u001b[0m\u001b[0;34m\u001b[0m\u001b[0m\n\u001b[1;32m      2\u001b[0m     \u001b[0mstories\u001b[0m \u001b[0;34m=\u001b[0m \u001b[0;34m[\u001b[0m\u001b[0;34m]\u001b[0m\u001b[0;34m\u001b[0m\u001b[0m\n\u001b[0;32m----> 3\u001b[0;31m     \u001b[0mlinks\u001b[0m \u001b[0;34m=\u001b[0m \u001b[0mlinkAppend\u001b[0m\u001b[0;34m(\u001b[0m\u001b[0mcontent\u001b[0m\u001b[0;34m,\u001b[0m \u001b[0mnewspaper\u001b[0m\u001b[0;34m)\u001b[0m\u001b[0;34m\u001b[0m\u001b[0m\n\u001b[0m\u001b[1;32m      4\u001b[0m     \u001b[0;32mfor\u001b[0m \u001b[0mlink\u001b[0m \u001b[0;32min\u001b[0m \u001b[0mlinks\u001b[0m\u001b[0;34m:\u001b[0m\u001b[0;34m\u001b[0m\u001b[0m\n\u001b[1;32m      5\u001b[0m         \u001b[0mstory\u001b[0m \u001b[0;34m=\u001b[0m \u001b[0;34m{\u001b[0m\u001b[0;34m}\u001b[0m\u001b[0;34m\u001b[0m\u001b[0m\n",
      "\u001b[0;32m<ipython-input-41-d52c260c117c>\u001b[0m in \u001b[0;36mlinkAppend\u001b[0;34m(content, newspaper)\u001b[0m\n\u001b[1;32m      2\u001b[0m     \u001b[0mtag\u001b[0m\u001b[0;34m,\u001b[0m \u001b[0mtagType\u001b[0m\u001b[0;34m,\u001b[0m \u001b[0mtagName\u001b[0m \u001b[0;34m=\u001b[0m \u001b[0mdomTranslate\u001b[0m\u001b[0;34m(\u001b[0m\u001b[0mnewspaper\u001b[0m\u001b[0;34m[\u001b[0m\u001b[0;34m\"searchLinksBody\"\u001b[0m\u001b[0;34m]\u001b[0m\u001b[0;34m)\u001b[0m\u001b[0;34m\u001b[0m\u001b[0m\n\u001b[1;32m      3\u001b[0m     \u001b[0mprint\u001b[0m\u001b[0;34m(\u001b[0m\u001b[0mcontent\u001b[0m\u001b[0;34m)\u001b[0m\u001b[0;34m\u001b[0m\u001b[0m\n\u001b[0;32m----> 4\u001b[0;31m     \u001b[0;32mreturn\u001b[0m \u001b[0mlist\u001b[0m\u001b[0;34m(\u001b[0m\u001b[0mset\u001b[0m\u001b[0;34m(\u001b[0m\u001b[0;34m[\u001b[0m\u001b[0mlink\u001b[0m\u001b[0;34m[\u001b[0m\u001b[0;34m\"href\"\u001b[0m\u001b[0;34m]\u001b[0m \u001b[0;32mfor\u001b[0m \u001b[0mlink\u001b[0m \u001b[0;32min\u001b[0m \u001b[0mcontent\u001b[0m\u001b[0;34m.\u001b[0m\u001b[0mfind\u001b[0m\u001b[0;34m(\u001b[0m\u001b[0mtag\u001b[0m\u001b[0;34m,\u001b[0m\u001b[0;34m{\u001b[0m\u001b[0mtagType\u001b[0m\u001b[0;34m:\u001b[0m\u001b[0mtagName\u001b[0m\u001b[0;34m}\u001b[0m\u001b[0;34m)\u001b[0m\u001b[0;34m.\u001b[0m\u001b[0mfindAll\u001b[0m\u001b[0;34m(\u001b[0m\u001b[0;34m\"a\"\u001b[0m\u001b[0;34m)\u001b[0m\u001b[0;34m]\u001b[0m\u001b[0;34m)\u001b[0m\u001b[0;34m)\u001b[0m\u001b[0;34m\u001b[0m\u001b[0m\n\u001b[0m",
      "\u001b[0;31mAttributeError\u001b[0m: 'NoneType' object has no attribute 'findAll'"
     ]
    }
   ],
   "source": [
    "searchPageRefresh(newspaper,searchData)"
   ]
  },
  {
   "cell_type": "code",
   "execution_count": 29,
   "metadata": {
    "collapsed": true
   },
   "outputs": [],
   "source": [
    "def maxOutPage(searchPage, newspaper):\n",
    "    content = visitPage(searchPage, newspaper)\n",
    "    global sess\n",
    "    sess = dryscrape.Session(base_url = searchPage)\n",
    "    button = sess.at_xpath(domToXpath(newspaper[\"paginationParams\"][\"refreshButton\"][\"linkLocation\"]))\n",
    "    \"Refreshing Page\"\n",
    "    while button is not None:\n",
    "        \"Refreshing Page\"\n",
    "        button.click()\n",
    "    \"Finished Refreshing, Extracting Page\"\n",
    "    content = BeautifulSoup(sess.body())\n",
    "    return content"
   ]
  },
  {
   "cell_type": "code",
   "execution_count": 9,
   "metadata": {
    "collapsed": false
   },
   "outputs": [],
   "source": [
    "def searchPages(newspaper,searchData):\n",
    "    searchPage = buildBaseUrl(newspaper,searchData)\n",
    "    content = visitPage(searchPage, newspaper)\n",
    "    maxValuesParams = extractMaxParamValue(content, newspaper)\n",
    "    stories = []\n",
    "    iterationMax, iterationParametersValues, iterationParameter = getIterationProcess(maxValuesParams, newspaper)\n",
    "    while iterationParametersValues[iterationParameter] <= maxValuesParams[iterationParameter]:\n",
    "        print(str(iterationParametersValues[iterationParameter]) + \"/\" + str(iterationMax))\n",
    "        content =buildPagination(newspaper, searchPage, iterationParametersValues, iterationParameter)\n",
    "        stories = stories + extractPageStories(content, newspaper, searchData)\n",
    "        iterationParametersValues = incrementIterationParameters(iterationParametersValues, newspaper)\n",
    "        sleep(0.5)\n",
    "        print(\"Current story size:\" + str(len(stories)))\n",
    "    return stories"
   ]
  },
  {
   "cell_type": "code",
   "execution_count": 10,
   "metadata": {
    "collapsed": true
   },
   "outputs": [],
   "source": [
    "def incrementIterationParameters(iterationParametersValues, newspaper):\n",
    "    for key in iterationParametersValues:\n",
    "        print(newspaper[\"paginationParams\"][key][\"sumFactor\"])\n",
    "        iterationParametersValues[key] = iterationParametersValues[key] + newspaper[\"paginationParams\"][key][\"sumFactor\"]\n",
    "    return iterationParametersValues"
   ]
  },
  {
   "cell_type": "code",
   "execution_count": 11,
   "metadata": {
    "collapsed": true
   },
   "outputs": [],
   "source": [
    "def getIterationProcess(maxValuesParams, newspaper):\n",
    "    iterationMax = 2\n",
    "    sumFactor = 1\n",
    "    if \"pageNumber\" in maxValuesParams:\n",
    "        #TODO(ricalanis): Abstract this.\n",
    "        iterationMax = maxValuesParams[\"pageNumber\"]\n",
    "        iterationParameter = \"pageNumber\"\n",
    "    else:\n",
    "        if \"startingPoint\" in maxValuesParams:\n",
    "            iterationMax = maxValuesParams[\"startingPoint\"]\n",
    "            iterationParameter = \"startingPoint\"\n",
    "    iterationParametersValues = {}\n",
    "    for key in maxValuesParams:\n",
    "        iterationParametersValues[key] = 1\n",
    "    return iterationMax, iterationParametersValues, iterationParameter"
   ]
  },
  {
   "cell_type": "code",
   "execution_count": 12,
   "metadata": {
    "collapsed": true
   },
   "outputs": [],
   "source": [
    "#non iterative version:\n",
    "def searchPage(newspaper,searchData):\n",
    "    searchPage = buildBaseUrl(newspaper,searchData)\n",
    "    content = visitPage(searchPage, newspaper)\n",
    "    maxValuesParams = extractMaxParamValue(content, newspaper)\n",
    "    currentPosition = 1\n",
    "    stories = []\n",
    "    stories = stories + extractPageStories(content, newspaper, searchData)\n",
    "    return stories"
   ]
  },
  {
   "cell_type": "code",
   "execution_count": 31,
   "metadata": {
    "collapsed": false
   },
   "outputs": [
    {
     "name": "stderr",
     "output_type": "stream",
     "text": [
      "<ipython-input-31-bcb8d664d7a0>:6: SyntaxWarning: name 'sess' is used prior to global declaration\n",
      "  global sess\n"
     ]
    }
   ],
   "source": [
    "def visitPage(page,newspaper):\n",
    "    if newspaper[\"visitType\"] == \"pureRequest\":\n",
    "        content = requests.get(page).content\n",
    "    elif newspaper[\"visitType\"] == \"JavascriptEnabled\":\n",
    "        if not sess: \n",
    "            global sess \n",
    "            sess = dryscrape.Session(page)\n",
    "        content = sess.body()\n",
    "    content = BeautifulSoup(content)\n",
    "    return content\n",
    "        "
   ]
  },
  {
   "cell_type": "code",
   "execution_count": 28,
   "metadata": {
    "collapsed": false
   },
   "outputs": [],
   "source": [
    "def extractMaxParamValue(content,newspaper):\n",
    "    totalParamValues = {}\n",
    "    for param in newspaper[\"paginationParams\"]:\n",
    "        locationText = textExtract(content, newspaper[\"paginationParams\"][param][\"totalLocationName\"])\n",
    "        value = int(eval(newspaper[\"paginationParams\"][param][\"totalLocationOps\"].replace(\"locationText\",'\"\"\"'+locationText+'\"\"\"')))\n",
    "        totalParamValues[param] = value\n",
    "    return totalParamValues\n",
    "        "
   ]
  },
  {
   "cell_type": "code",
   "execution_count": 15,
   "metadata": {
    "collapsed": true
   },
   "outputs": [],
   "source": [
    "def domTranslate(expression):\n",
    "    if \"#\" in expression:\n",
    "        tag, tag_id = expression.split(\"#\")\n",
    "        return tag, \"id\", tag_id\n",
    "    elif \".\" in expression:\n",
    "        tag, tag_class = expression.split(\".\")\n",
    "        return tag, \"class\", tag_class\n",
    "    else:\n",
    "        raise \"No Id or Class symbol found\"\n",
    "    return None"
   ]
  },
  {
   "cell_type": "code",
   "execution_count": 41,
   "metadata": {
    "collapsed": true
   },
   "outputs": [],
   "source": [
    "def linkAppend(content, newspaper):\n",
    "    tag, tagType, tagName = domTranslate(newspaper[\"searchLinksBody\"])\n",
    "    print(content)\n",
    "    return list(set([link[\"href\"] for link in content.find(tag,{tagType:tagName}).findAll(\"a\")]))"
   ]
  },
  {
   "cell_type": "code",
   "execution_count": 17,
   "metadata": {
    "collapsed": true
   },
   "outputs": [],
   "source": [
    "def textExtract(content, domObject):\n",
    "    tag, tagType, tagValue = domTranslate(domObject)\n",
    "    try:\n",
    "        content.find(tag, {tagType:tagValue})\n",
    "        locationText = content.find(tag, {tagType:tagValue}).text\n",
    "    except: \n",
    "        locationText = \"N/A\"\n",
    "    return locationText"
   ]
  },
  {
   "cell_type": "code",
   "execution_count": 37,
   "metadata": {
    "collapsed": true
   },
   "outputs": [],
   "source": [
    "def extractPageStories(content, newspaper,searchData):\n",
    "    stories = []\n",
    "    links = linkAppend(content, newspaper)\n",
    "    for link in links:\n",
    "        story = {}\n",
    "        content = visitPage(link,newspaper)\n",
    "        story[\"link\"] = link\n",
    "        story[\"query\"] = searchData[\"query\"]\n",
    "        for articleSection in newspaper[\"article\"]:\n",
    "            domSection = newspaper[\"article\"][articleSection]\n",
    "            story[articleSection] = textExtract(content, domSection)\n",
    "        stories.append(story)\n",
    "    return stories\n",
    "        "
   ]
  },
  {
   "cell_type": "code",
   "execution_count": 19,
   "metadata": {
    "collapsed": false
   },
   "outputs": [],
   "source": [
    "sess = dryscrape.Session()\n",
    "sess.visit(\"http://www.milenio.com/buscador/?text=pokemon\")\n",
    "sess.render(\"example.png\")"
   ]
  },
  {
   "cell_type": "code",
   "execution_count": 20,
   "metadata": {
    "collapsed": false
   },
   "outputs": [
    {
     "name": "stdout",
     "output_type": "stream",
     "text": [
      "<Node #/html/body/div[@id='doc']/div[@id='container']/div[2]/div[@id='main']/div/div[2]/div[1]/div/div/div[3]/p/a[@id='busqueda-vermas']>\n"
     ]
    }
   ],
   "source": [
    "button = sess.at_xpath(\"//a[@id='busqueda-vermas']\")\n",
    "print(button)"
   ]
  },
  {
   "cell_type": "code",
   "execution_count": 21,
   "metadata": {
    "collapsed": true
   },
   "outputs": [],
   "source": [
    "sess.render(\"example2.png\")"
   ]
  },
  {
   "cell_type": "code",
   "execution_count": 22,
   "metadata": {
    "collapsed": false
   },
   "outputs": [],
   "source": [
    "def domToXpath(expression):\n",
    "    if \"#\" in expression:\n",
    "        tag, tag_id = expression.split(\"#\")\n",
    "        return \"//\"+tag+ \"[@id='\"+ tag_id+\"']\"\n",
    "    elif \".\" in expression:\n",
    "        tag, tag_class = expression.split(\".\")\n",
    "        return \"//\"+tag+ \"[@class='\"+ tag_id+\"']\"\n",
    "    else:\n",
    "        raise \"No Id or Class symbol found\"\n",
    "    return None"
   ]
  },
  {
   "cell_type": "code",
   "execution_count": 23,
   "metadata": {
    "collapsed": false
   },
   "outputs": [
    {
     "data": {
      "text/plain": [
       "\"//a[@id='busqueda-vermas']\""
      ]
     },
     "execution_count": 23,
     "metadata": {},
     "output_type": "execute_result"
    }
   ],
   "source": [
    "domToXpath(newspaper[\"paginationParams\"][\"refreshButton\"][\"linkLocation\"])"
   ]
  },
  {
   "cell_type": "code",
   "execution_count": null,
   "metadata": {
    "collapsed": true
   },
   "outputs": [],
   "source": [
    "sess."
   ]
  },
  {
   "cell_type": "code",
   "execution_count": 35,
   "metadata": {
    "collapsed": true
   },
   "outputs": [],
   "source": [
    "def linkAppend(content, newspaper):\n",
    "    tag, tagType, tagName = domTranslate(newspaper[\"searchLinksBody\"])\n",
    "    return list(set([link[\"href\"] for link in content.find(tag,{tagType:tagName}).findAll(\"a\")]))"
   ]
  },
  {
   "cell_type": "code",
   "execution_count": null,
   "metadata": {
    "collapsed": true
   },
   "outputs": [],
   "source": []
  }
 ],
 "metadata": {
  "kernelspec": {
   "display_name": "Python 3",
   "language": "python",
   "name": "python3"
  },
  "language_info": {
   "codemirror_mode": {
    "name": "ipython",
    "version": 3
   },
   "file_extension": ".py",
   "mimetype": "text/x-python",
   "name": "python",
   "nbconvert_exporter": "python",
   "pygments_lexer": "ipython3",
   "version": "3.4.1"
  }
 },
 "nbformat": 4,
 "nbformat_minor": 0
}
